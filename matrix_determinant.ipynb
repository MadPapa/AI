{
 "cells": [
  {
   "cell_type": "code",
   "execution_count": 1,
   "metadata": {},
   "outputs": [
    {
     "data": {
      "text/plain": [
       "0"
      ]
     },
     "execution_count": 1,
     "metadata": {},
     "output_type": "execute_result"
    }
   ],
   "source": [
    "def matrix_determinant(matrix):\n",
    "    if len(matrix) == 1:\n",
    "        return matrix[0][0]\n",
    "    if len(matrix) == 2:\n",
    "        return matrix[0][0] * matrix[1][1] - matrix[0][1] * matrix[1][0]\n",
    "\n",
    "    det = 0\n",
    "\n",
    "    for i in range(len(matrix)):\n",
    "        sign = (-1) ** i\n",
    "        sub_matrix = []\n",
    "        for j in range(1, len(matrix)):\n",
    "            row = []\n",
    "            for k in range(len(matrix)):\n",
    "                if k != i:\n",
    "                    row.append(matrix[j][k])\n",
    "            sub_matrix.append(row)\n",
    "        sub_det = matrix_determinant(sub_matrix)\n",
    "        det += sign * matrix[0][i] * sub_det\n",
    "    return det\n",
    "\n",
    "\n",
    "matrix = [\n",
    "    [1, 5, 1],\n",
    "    [2, 1, 2],\n",
    "    [3, 2, 3]\n",
    "]\n",
    "\n",
    "matrix_determinant(matrix)"
   ]
  },
  {
   "cell_type": "code",
   "execution_count": null,
   "metadata": {},
   "outputs": [],
   "source": []
  }
 ],
 "metadata": {
  "kernelspec": {
   "display_name": "venv",
   "language": "python",
   "name": "python3"
  },
  "language_info": {
   "codemirror_mode": {
    "name": "ipython",
    "version": 3
   },
   "file_extension": ".py",
   "mimetype": "text/x-python",
   "name": "python",
   "nbconvert_exporter": "python",
   "pygments_lexer": "ipython3",
   "version": "3.11.0"
  },
  "orig_nbformat": 4
 },
 "nbformat": 4,
 "nbformat_minor": 2
}
