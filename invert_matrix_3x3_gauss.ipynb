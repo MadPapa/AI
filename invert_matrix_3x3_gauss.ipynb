{
 "cells": [
  {
   "cell_type": "code",
   "execution_count": 5,
   "metadata": {},
   "outputs": [
    {
     "data": {
      "text/plain": [
       "matrix([[ 3.,  9., -4.],\n",
       "        [ 1.,  3., -1.],\n",
       "        [ 2.,  5., -2.]])"
      ]
     },
     "execution_count": 5,
     "metadata": {},
     "output_type": "execute_result"
    }
   ],
   "source": [
    "import numpy as np\n",
    "\n",
    "def invert_matrix_3x3_gauss(matrix):\n",
    "        if len(matrix) != 3 or len(matrix[0]) != 3:\n",
    "            raise ValueError(\"The matrix must be 3x3.\")\n",
    "\n",
    "        identity = [\n",
    "            [1, 0, 0],\n",
    "            [0, 1, 0],\n",
    "            [0, 0, 1]\n",
    "        ]\n",
    "        matrix_len = len(matrix)\n",
    "        for col in range(matrix_len):\n",
    "            if matrix[col][col] == 0:\n",
    "                raise ValueError(\"The matrix has no inverse.\")\n",
    "\n",
    "            scalar = 1 / matrix[col][col]\n",
    "            for row in range(matrix_len):\n",
    "                matrix[row][col] *= scalar\n",
    "                identity[row][col] *= scalar\n",
    "\n",
    "            for row in range(matrix_len):\n",
    "                if row != col:\n",
    "                    scalar = matrix[col][row]\n",
    "                    for i in range(matrix_len):\n",
    "                        matrix[i][row] -= scalar * matrix[i][col]\n",
    "                        identity[i][row] -= scalar * identity[i][col]\n",
    "\n",
    "        return np.asmatrix(identity)\n",
    "\n",
    "\n",
    "matrix_1 = [\n",
    "        [-1, -2, 3],\n",
    "        [0, 2, -1],\n",
    "        [-1, 3, 0]\n",
    "    ]\n",
    "\n",
    "invert_matrix_3x3_gauss(matrix_1)"
   ]
  },
  {
   "cell_type": "code",
   "execution_count": null,
   "metadata": {},
   "outputs": [],
   "source": []
  }
 ],
 "metadata": {
  "kernelspec": {
   "display_name": "venv",
   "language": "python",
   "name": "python3"
  },
  "language_info": {
   "codemirror_mode": {
    "name": "ipython",
    "version": 3
   },
   "file_extension": ".py",
   "mimetype": "text/x-python",
   "name": "python",
   "nbconvert_exporter": "python",
   "pygments_lexer": "ipython3",
   "version": "3.11.0"
  },
  "orig_nbformat": 4
 },
 "nbformat": 4,
 "nbformat_minor": 2
}
