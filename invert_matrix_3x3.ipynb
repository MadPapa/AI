{
 "cells": [
  {
   "cell_type": "code",
   "execution_count": 3,
   "metadata": {},
   "outputs": [
    {
     "data": {
      "text/plain": [
       "matrix([[ 3,  9, -4],\n",
       "        [ 1,  3, -1],\n",
       "        [ 2,  5, -2]])"
      ]
     },
     "execution_count": 3,
     "metadata": {},
     "output_type": "execute_result"
    }
   ],
   "source": [
    "import numpy as np\n",
    "\n",
    "\n",
    "def matrix_determinant(matrix):\n",
    "    if len(matrix) == 1:\n",
    "        return matrix[0][0]\n",
    "    if len(matrix) == 2:\n",
    "        return matrix[0][0] * matrix[1][1] - matrix[0][1] * matrix[1][0]\n",
    "\n",
    "    det = 0\n",
    "\n",
    "    for i in range(len(matrix)):\n",
    "        sign = (-1) ** i\n",
    "        sub_matrix = []\n",
    "        for j in range(1, len(matrix)):\n",
    "            row = []\n",
    "            for k in range(len(matrix)):\n",
    "                if k != i:\n",
    "                    row.append(matrix[j][k])\n",
    "            sub_matrix.append(row)\n",
    "        sub_det = matrix_determinant(sub_matrix)\n",
    "        det += sign * matrix[0][i] * sub_det\n",
    "    return det\n",
    "\n",
    "\n",
    "def invert_matrix_3x3(matrix):\n",
    "        det = matrix_determinant(matrix)\n",
    "\n",
    "        if det == 0:\n",
    "            print('Matrix can not be invert')\n",
    "        else:\n",
    "            inverted_matrix = [[0 for j in range(3)] for i in range(3)]\n",
    "            inverted_matrix[0][0] = (\n",
    "                matrix[1][1] * matrix[2][2] - matrix[2][1] * matrix[1][2]) // det\n",
    "            inverted_matrix[0][1] = (\n",
    "                matrix[0][2] * matrix[2][1] - matrix[0][1] * matrix[2][2]) // det\n",
    "            inverted_matrix[0][2] = (\n",
    "                matrix[0][1] * matrix[1][2] - matrix[0][2] * matrix[1][1]) // det\n",
    "            inverted_matrix[1][0] = (\n",
    "                matrix[1][2] * matrix[2][0] - matrix[1][0] * matrix[2][2]) // det\n",
    "            inverted_matrix[1][1] = (\n",
    "                matrix[0][0] * matrix[2][2] - matrix[0][2] * matrix[2][0]) // det\n",
    "            inverted_matrix[1][2] = (\n",
    "                matrix[1][0] * matrix[0][2] - matrix[0][0] * matrix[1][2]) // det\n",
    "            inverted_matrix[2][0] = (\n",
    "                matrix[1][0] * matrix[2][1] - matrix[2][0] * matrix[1][1]) // det\n",
    "            inverted_matrix[2][1] = (\n",
    "                matrix[2][0] * matrix[0][1] - matrix[0][0] * matrix[2][1]) // det\n",
    "            inverted_matrix[2][2] = (\n",
    "                matrix[0][0] * matrix[1][1] - matrix[1][0] * matrix[0][1]) // det\n",
    "\n",
    "            return np.asmatrix(inverted_matrix)\n",
    "\n",
    "\n",
    "matrix_1 = [\n",
    "        [-1, -2, 3],\n",
    "        [0, 2, -1],\n",
    "        [-1, 3, 0]\n",
    "    ]\n",
    "\n",
    "invert_matrix_3x3(matrix_1)"
   ]
  },
  {
   "cell_type": "code",
   "execution_count": null,
   "metadata": {},
   "outputs": [],
   "source": []
  }
 ],
 "metadata": {
  "kernelspec": {
   "display_name": "venv",
   "language": "python",
   "name": "python3"
  },
  "language_info": {
   "codemirror_mode": {
    "name": "ipython",
    "version": 3
   },
   "file_extension": ".py",
   "mimetype": "text/x-python",
   "name": "python",
   "nbconvert_exporter": "python",
   "pygments_lexer": "ipython3",
   "version": "3.11.0"
  },
  "orig_nbformat": 4
 },
 "nbformat": 4,
 "nbformat_minor": 2
}
