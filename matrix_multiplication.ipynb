{
 "cells": [
  {
   "cell_type": "code",
   "execution_count": 3,
   "metadata": {},
   "outputs": [
    {
     "data": {
      "text/plain": [
       "matrix([[ 4, -1,  4],\n",
       "        [ 1,  0,  1]])"
      ]
     },
     "execution_count": 3,
     "metadata": {},
     "output_type": "execute_result"
    }
   ],
   "source": [
    "import numpy as np\n",
    "\n",
    "def dot_product(vector_1, vector_2):\n",
    "        if len(vector_1) != len(vector_2):\n",
    "            print('Vectors are not equals!')\n",
    "        else:\n",
    "            answer = 0\n",
    "            for i in range(len(vector_1)):\n",
    "                answer += vector_1[i] * vector_2[i]\n",
    "        return answer\n",
    "\n",
    "def matrix_transposition(array_1):\n",
    "        return [[array_1[j][i] for j in range(len(array_1))] for i in range(len(array_1[0]))]\n",
    "\n",
    "\n",
    "def matrix_multiplication(matrix_1, matrix_2):\n",
    "        if len(matrix_1[0]) == len(matrix_2):\n",
    "            transposed_matrix = matrix_transposition(matrix_2)\n",
    "            result = []\n",
    "            for row in matrix_1:\n",
    "                tmp = []\n",
    "                for col in transposed_matrix:\n",
    "                    tmp.append(dot_product(row, col))\n",
    "                result.append(tmp)\n",
    "            return np.asmatrix(result)\n",
    "        else:\n",
    "            print('The number of columns of the first matrix is not equal to the number of rows of the second matrix.')\n",
    "\n",
    "\n",
    "matrix_1 = [\n",
    "    [-1, -2, 3],\n",
    "    [0, 2, -1],\n",
    "    # [-1, 3, 0]\n",
    "]\n",
    "matrix_2 = [\n",
    "    [1, 5, 1],\n",
    "    [2, 1, 2],\n",
    "    [3, 2, 3]\n",
    "]\n",
    "\n",
    "matrix_multiplication(matrix_1, matrix_2)\n"
   ]
  },
  {
   "cell_type": "code",
   "execution_count": null,
   "metadata": {},
   "outputs": [],
   "source": []
  }
 ],
 "metadata": {
  "kernelspec": {
   "display_name": "venv",
   "language": "python",
   "name": "python3"
  },
  "language_info": {
   "codemirror_mode": {
    "name": "ipython",
    "version": 3
   },
   "file_extension": ".py",
   "mimetype": "text/x-python",
   "name": "python",
   "nbconvert_exporter": "python",
   "pygments_lexer": "ipython3",
   "version": "3.11.0"
  },
  "orig_nbformat": 4
 },
 "nbformat": 4,
 "nbformat_minor": 2
}
