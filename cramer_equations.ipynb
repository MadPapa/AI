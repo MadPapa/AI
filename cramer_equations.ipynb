{
 "cells": [
  {
   "cell_type": "code",
   "execution_count": 6,
   "metadata": {},
   "outputs": [
    {
     "data": {
      "text/plain": [
       "(2.0, 3.0)"
      ]
     },
     "execution_count": 6,
     "metadata": {},
     "output_type": "execute_result"
    }
   ],
   "source": [
    "def system_of_equations_cramer(matrix):\n",
    "        det = (matrix[0][0] * matrix[1][1]) - (matrix[1][0] * matrix[0][1])\n",
    "        det_x = (matrix[0][2] * matrix[1][1]) - (matrix[1][2] * matrix[0][1])\n",
    "        det_y = (matrix[0][0] * matrix[1][2]) - (matrix[1][0] * matrix[0][2])\n",
    "\n",
    "        if det == 0 and (det_x or det_y) != 0:\n",
    "            raise ValueError('no solutions')\n",
    "        elif det == 0 and det_x == 0 and det_y == 0:\n",
    "            raise ValueError('infinitely many solutions')\n",
    "        else:\n",
    "            x = det_x / det\n",
    "            y = det_y / det\n",
    "\n",
    "            return x, y\n",
    "\n",
    "matrix_3 = [\n",
    "            [1, 2, 8],\n",
    "            [2, -1, 1]\n",
    "        ]\n",
    "\n",
    "system_of_equations_cramer(matrix_3)"
   ]
  },
  {
   "cell_type": "code",
   "execution_count": null,
   "metadata": {},
   "outputs": [],
   "source": []
  }
 ],
 "metadata": {
  "kernelspec": {
   "display_name": "venv",
   "language": "python",
   "name": "python3"
  },
  "language_info": {
   "codemirror_mode": {
    "name": "ipython",
    "version": 3
   },
   "file_extension": ".py",
   "mimetype": "text/x-python",
   "name": "python",
   "nbconvert_exporter": "python",
   "pygments_lexer": "ipython3",
   "version": "3.11.0"
  },
  "orig_nbformat": 4
 },
 "nbformat": 4,
 "nbformat_minor": 2
}
